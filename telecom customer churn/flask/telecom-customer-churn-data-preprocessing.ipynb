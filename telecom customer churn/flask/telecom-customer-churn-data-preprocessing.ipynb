{
 "cells": [
  {
   "cell_type": "code",
   "execution_count": 1,
   "metadata": {
    "execution": {
     "iopub.execute_input": "2021-02-09T10:57:24.742423Z",
     "iopub.status.busy": "2021-02-09T10:57:24.741725Z",
     "iopub.status.idle": "2021-02-09T10:57:24.757286Z",
     "shell.execute_reply": "2021-02-09T10:57:24.756341Z"
    },
    "papermill": {
     "duration": 0.04091,
     "end_time": "2021-02-09T10:57:24.757522",
     "exception": false,
     "start_time": "2021-02-09T10:57:24.716612",
     "status": "completed"
    },
    "tags": []
   },
   "outputs": [
    {
     "name": "stdout",
     "output_type": "stream",
     "text": [
      "/kaggle/input/telco-customer-churn/WA_Fn-UseC_-Telco-Customer-Churn.csv\n"
     ]
    }
   ],
   "source": [
    "import numpy as np # linear algebra\n",
    "import pandas as pd # data processing, CSV file I/O (e.g. pd.read_csv)\n",
    "\n",
    "# Input data files are available in the read-only \"../input/\" directory\n",
    "# For example, running this (by clicking run or pressing Shift+Enter) will list all files under the input directory\n",
    "\n",
    "import os\n",
    "for dirname, _, filenames in os.walk('/kaggle/input'):\n",
    "    for filename in filenames:\n",
    "        print(os.path.join(dirname, filename))"
   ]
  },
  {
   "cell_type": "markdown",
   "metadata": {
    "papermill": {
     "duration": 0.020997,
     "end_time": "2021-02-09T10:57:24.802097",
     "exception": false,
     "start_time": "2021-02-09T10:57:24.781100",
     "status": "completed"
    },
    "tags": []
   },
   "source": [
    "**Importing Dependencies and Reading Data**"
   ]
  },
  {
   "cell_type": "code",
   "execution_count": 2,
   "metadata": {
    "execution": {
     "iopub.execute_input": "2021-02-09T10:57:24.851281Z",
     "iopub.status.busy": "2021-02-09T10:57:24.850600Z",
     "iopub.status.idle": "2021-02-09T10:57:24.963976Z",
     "shell.execute_reply": "2021-02-09T10:57:24.964507Z"
    },
    "id": "jykDVpaQGCe6",
    "outputId": "cde64082-51e0-4f72-f9e1-571536533195",
    "papermill": {
     "duration": 0.141183,
     "end_time": "2021-02-09T10:57:24.964699",
     "exception": false,
     "start_time": "2021-02-09T10:57:24.823516",
     "status": "completed"
    },
    "tags": []
   },
   "outputs": [
    {
     "data": {
      "text/html": [
       "<div>\n",
       "<style scoped>\n",
       "    .dataframe tbody tr th:only-of-type {\n",
       "        vertical-align: middle;\n",
       "    }\n",
       "\n",
       "    .dataframe tbody tr th {\n",
       "        vertical-align: top;\n",
       "    }\n",
       "\n",
       "    .dataframe thead th {\n",
       "        text-align: right;\n",
       "    }\n",
       "</style>\n",
       "<table border=\"1\" class=\"dataframe\">\n",
       "  <thead>\n",
       "    <tr style=\"text-align: right;\">\n",
       "      <th></th>\n",
       "      <th>customerID</th>\n",
       "      <th>gender</th>\n",
       "      <th>SeniorCitizen</th>\n",
       "      <th>Partner</th>\n",
       "      <th>Dependents</th>\n",
       "      <th>tenure</th>\n",
       "      <th>PhoneService</th>\n",
       "      <th>MultipleLines</th>\n",
       "      <th>InternetService</th>\n",
       "      <th>OnlineSecurity</th>\n",
       "      <th>...</th>\n",
       "      <th>DeviceProtection</th>\n",
       "      <th>TechSupport</th>\n",
       "      <th>StreamingTV</th>\n",
       "      <th>StreamingMovies</th>\n",
       "      <th>Contract</th>\n",
       "      <th>PaperlessBilling</th>\n",
       "      <th>PaymentMethod</th>\n",
       "      <th>MonthlyCharges</th>\n",
       "      <th>TotalCharges</th>\n",
       "      <th>Churn</th>\n",
       "    </tr>\n",
       "  </thead>\n",
       "  <tbody>\n",
       "    <tr>\n",
       "      <th>0</th>\n",
       "      <td>7590-VHVEG</td>\n",
       "      <td>Female</td>\n",
       "      <td>0</td>\n",
       "      <td>Yes</td>\n",
       "      <td>No</td>\n",
       "      <td>1</td>\n",
       "      <td>No</td>\n",
       "      <td>No phone service</td>\n",
       "      <td>DSL</td>\n",
       "      <td>No</td>\n",
       "      <td>...</td>\n",
       "      <td>No</td>\n",
       "      <td>No</td>\n",
       "      <td>No</td>\n",
       "      <td>No</td>\n",
       "      <td>Month-to-month</td>\n",
       "      <td>Yes</td>\n",
       "      <td>Electronic check</td>\n",
       "      <td>29.85</td>\n",
       "      <td>29.85</td>\n",
       "      <td>No</td>\n",
       "    </tr>\n",
       "    <tr>\n",
       "      <th>1</th>\n",
       "      <td>5575-GNVDE</td>\n",
       "      <td>Male</td>\n",
       "      <td>0</td>\n",
       "      <td>No</td>\n",
       "      <td>No</td>\n",
       "      <td>34</td>\n",
       "      <td>Yes</td>\n",
       "      <td>No</td>\n",
       "      <td>DSL</td>\n",
       "      <td>Yes</td>\n",
       "      <td>...</td>\n",
       "      <td>Yes</td>\n",
       "      <td>No</td>\n",
       "      <td>No</td>\n",
       "      <td>No</td>\n",
       "      <td>One year</td>\n",
       "      <td>No</td>\n",
       "      <td>Mailed check</td>\n",
       "      <td>56.95</td>\n",
       "      <td>1889.5</td>\n",
       "      <td>No</td>\n",
       "    </tr>\n",
       "    <tr>\n",
       "      <th>2</th>\n",
       "      <td>3668-QPYBK</td>\n",
       "      <td>Male</td>\n",
       "      <td>0</td>\n",
       "      <td>No</td>\n",
       "      <td>No</td>\n",
       "      <td>2</td>\n",
       "      <td>Yes</td>\n",
       "      <td>No</td>\n",
       "      <td>DSL</td>\n",
       "      <td>Yes</td>\n",
       "      <td>...</td>\n",
       "      <td>No</td>\n",
       "      <td>No</td>\n",
       "      <td>No</td>\n",
       "      <td>No</td>\n",
       "      <td>Month-to-month</td>\n",
       "      <td>Yes</td>\n",
       "      <td>Mailed check</td>\n",
       "      <td>53.85</td>\n",
       "      <td>108.15</td>\n",
       "      <td>Yes</td>\n",
       "    </tr>\n",
       "    <tr>\n",
       "      <th>3</th>\n",
       "      <td>7795-CFOCW</td>\n",
       "      <td>Male</td>\n",
       "      <td>0</td>\n",
       "      <td>No</td>\n",
       "      <td>No</td>\n",
       "      <td>45</td>\n",
       "      <td>No</td>\n",
       "      <td>No phone service</td>\n",
       "      <td>DSL</td>\n",
       "      <td>Yes</td>\n",
       "      <td>...</td>\n",
       "      <td>Yes</td>\n",
       "      <td>Yes</td>\n",
       "      <td>No</td>\n",
       "      <td>No</td>\n",
       "      <td>One year</td>\n",
       "      <td>No</td>\n",
       "      <td>Bank transfer (automatic)</td>\n",
       "      <td>42.30</td>\n",
       "      <td>1840.75</td>\n",
       "      <td>No</td>\n",
       "    </tr>\n",
       "    <tr>\n",
       "      <th>4</th>\n",
       "      <td>9237-HQITU</td>\n",
       "      <td>Female</td>\n",
       "      <td>0</td>\n",
       "      <td>No</td>\n",
       "      <td>No</td>\n",
       "      <td>2</td>\n",
       "      <td>Yes</td>\n",
       "      <td>No</td>\n",
       "      <td>Fiber optic</td>\n",
       "      <td>No</td>\n",
       "      <td>...</td>\n",
       "      <td>No</td>\n",
       "      <td>No</td>\n",
       "      <td>No</td>\n",
       "      <td>No</td>\n",
       "      <td>Month-to-month</td>\n",
       "      <td>Yes</td>\n",
       "      <td>Electronic check</td>\n",
       "      <td>70.70</td>\n",
       "      <td>151.65</td>\n",
       "      <td>Yes</td>\n",
       "    </tr>\n",
       "  </tbody>\n",
       "</table>\n",
       "<p>5 rows × 21 columns</p>\n",
       "</div>"
      ],
      "text/plain": [
       "   customerID  gender  SeniorCitizen Partner Dependents  tenure PhoneService  \\\n",
       "0  7590-VHVEG  Female              0     Yes         No       1           No   \n",
       "1  5575-GNVDE    Male              0      No         No      34          Yes   \n",
       "2  3668-QPYBK    Male              0      No         No       2          Yes   \n",
       "3  7795-CFOCW    Male              0      No         No      45           No   \n",
       "4  9237-HQITU  Female              0      No         No       2          Yes   \n",
       "\n",
       "      MultipleLines InternetService OnlineSecurity  ... DeviceProtection  \\\n",
       "0  No phone service             DSL             No  ...               No   \n",
       "1                No             DSL            Yes  ...              Yes   \n",
       "2                No             DSL            Yes  ...               No   \n",
       "3  No phone service             DSL            Yes  ...              Yes   \n",
       "4                No     Fiber optic             No  ...               No   \n",
       "\n",
       "  TechSupport StreamingTV StreamingMovies        Contract PaperlessBilling  \\\n",
       "0          No          No              No  Month-to-month              Yes   \n",
       "1          No          No              No        One year               No   \n",
       "2          No          No              No  Month-to-month              Yes   \n",
       "3         Yes          No              No        One year               No   \n",
       "4          No          No              No  Month-to-month              Yes   \n",
       "\n",
       "               PaymentMethod MonthlyCharges  TotalCharges Churn  \n",
       "0           Electronic check          29.85         29.85    No  \n",
       "1               Mailed check          56.95        1889.5    No  \n",
       "2               Mailed check          53.85        108.15   Yes  \n",
       "3  Bank transfer (automatic)          42.30       1840.75    No  \n",
       "4           Electronic check          70.70        151.65   Yes  \n",
       "\n",
       "[5 rows x 21 columns]"
      ]
     },
     "execution_count": 2,
     "metadata": {},
     "output_type": "execute_result"
    }
   ],
   "source": [
    "import pandas as pd\n",
    "import numpy as np\n",
    "\n",
    "data=pd.read_csv('/kaggle/input/telco-customer-churn/WA_Fn-UseC_-Telco-Customer-Churn.csv')\n",
    "data.head()"
   ]
  },
  {
   "cell_type": "markdown",
   "metadata": {
    "papermill": {
     "duration": 0.022097,
     "end_time": "2021-02-09T10:57:25.008594",
     "exception": false,
     "start_time": "2021-02-09T10:57:24.986497",
     "status": "completed"
    },
    "tags": []
   },
   "source": [
    "7043 rows denoting the number of customers this data was surveyed upon and 21 columns including the target variable which means 20 features contribute to the churn result."
   ]
  },
  {
   "cell_type": "code",
   "execution_count": 3,
   "metadata": {
    "execution": {
     "iopub.execute_input": "2021-02-09T10:57:25.058801Z",
     "iopub.status.busy": "2021-02-09T10:57:25.057403Z",
     "iopub.status.idle": "2021-02-09T10:57:25.063758Z",
     "shell.execute_reply": "2021-02-09T10:57:25.064326Z"
    },
    "id": "OPYKGldZGCe7",
    "outputId": "16191db7-9dc2-47e8-a4ce-543a79d68b9f",
    "papermill": {
     "duration": 0.033564,
     "end_time": "2021-02-09T10:57:25.064511",
     "exception": false,
     "start_time": "2021-02-09T10:57:25.030947",
     "status": "completed"
    },
    "tags": []
   },
   "outputs": [
    {
     "data": {
      "text/plain": [
       "(7043, 21)"
      ]
     },
     "execution_count": 3,
     "metadata": {},
     "output_type": "execute_result"
    }
   ],
   "source": [
    "data.shape"
   ]
  },
  {
   "cell_type": "markdown",
   "metadata": {
    "papermill": {
     "duration": 0.022256,
     "end_time": "2021-02-09T10:57:25.109358",
     "exception": false,
     "start_time": "2021-02-09T10:57:25.087102",
     "status": "completed"
    },
    "tags": []
   },
   "source": [
    "Customer ID and the target variable column are not to be included in the data which is used to predict the churn result."
   ]
  },
  {
   "cell_type": "code",
   "execution_count": 4,
   "metadata": {
    "execution": {
     "iopub.execute_input": "2021-02-09T10:57:25.158469Z",
     "iopub.status.busy": "2021-02-09T10:57:25.157379Z",
     "iopub.status.idle": "2021-02-09T10:57:25.183892Z",
     "shell.execute_reply": "2021-02-09T10:57:25.184357Z"
    },
    "id": "d9wS8z3BGCe8",
    "outputId": "737c6eab-6768-4d8a-c5cb-50d80824af33",
    "papermill": {
     "duration": 0.0526,
     "end_time": "2021-02-09T10:57:25.184551",
     "exception": false,
     "start_time": "2021-02-09T10:57:25.131951",
     "status": "completed"
    },
    "tags": []
   },
   "outputs": [
    {
     "data": {
      "text/html": [
       "<div>\n",
       "<style scoped>\n",
       "    .dataframe tbody tr th:only-of-type {\n",
       "        vertical-align: middle;\n",
       "    }\n",
       "\n",
       "    .dataframe tbody tr th {\n",
       "        vertical-align: top;\n",
       "    }\n",
       "\n",
       "    .dataframe thead th {\n",
       "        text-align: right;\n",
       "    }\n",
       "</style>\n",
       "<table border=\"1\" class=\"dataframe\">\n",
       "  <thead>\n",
       "    <tr style=\"text-align: right;\">\n",
       "      <th></th>\n",
       "      <th>gender</th>\n",
       "      <th>SeniorCitizen</th>\n",
       "      <th>Partner</th>\n",
       "      <th>Dependents</th>\n",
       "      <th>tenure</th>\n",
       "      <th>PhoneService</th>\n",
       "      <th>MultipleLines</th>\n",
       "      <th>InternetService</th>\n",
       "      <th>OnlineSecurity</th>\n",
       "      <th>OnlineBackup</th>\n",
       "      <th>DeviceProtection</th>\n",
       "      <th>TechSupport</th>\n",
       "      <th>StreamingTV</th>\n",
       "      <th>StreamingMovies</th>\n",
       "      <th>Contract</th>\n",
       "      <th>PaperlessBilling</th>\n",
       "      <th>PaymentMethod</th>\n",
       "      <th>MonthlyCharges</th>\n",
       "      <th>TotalCharges</th>\n",
       "    </tr>\n",
       "  </thead>\n",
       "  <tbody>\n",
       "    <tr>\n",
       "      <th>0</th>\n",
       "      <td>Female</td>\n",
       "      <td>0</td>\n",
       "      <td>Yes</td>\n",
       "      <td>No</td>\n",
       "      <td>1</td>\n",
       "      <td>No</td>\n",
       "      <td>No phone service</td>\n",
       "      <td>DSL</td>\n",
       "      <td>No</td>\n",
       "      <td>Yes</td>\n",
       "      <td>No</td>\n",
       "      <td>No</td>\n",
       "      <td>No</td>\n",
       "      <td>No</td>\n",
       "      <td>Month-to-month</td>\n",
       "      <td>Yes</td>\n",
       "      <td>Electronic check</td>\n",
       "      <td>29.85</td>\n",
       "      <td>29.85</td>\n",
       "    </tr>\n",
       "    <tr>\n",
       "      <th>1</th>\n",
       "      <td>Male</td>\n",
       "      <td>0</td>\n",
       "      <td>No</td>\n",
       "      <td>No</td>\n",
       "      <td>34</td>\n",
       "      <td>Yes</td>\n",
       "      <td>No</td>\n",
       "      <td>DSL</td>\n",
       "      <td>Yes</td>\n",
       "      <td>No</td>\n",
       "      <td>Yes</td>\n",
       "      <td>No</td>\n",
       "      <td>No</td>\n",
       "      <td>No</td>\n",
       "      <td>One year</td>\n",
       "      <td>No</td>\n",
       "      <td>Mailed check</td>\n",
       "      <td>56.95</td>\n",
       "      <td>1889.5</td>\n",
       "    </tr>\n",
       "    <tr>\n",
       "      <th>2</th>\n",
       "      <td>Male</td>\n",
       "      <td>0</td>\n",
       "      <td>No</td>\n",
       "      <td>No</td>\n",
       "      <td>2</td>\n",
       "      <td>Yes</td>\n",
       "      <td>No</td>\n",
       "      <td>DSL</td>\n",
       "      <td>Yes</td>\n",
       "      <td>Yes</td>\n",
       "      <td>No</td>\n",
       "      <td>No</td>\n",
       "      <td>No</td>\n",
       "      <td>No</td>\n",
       "      <td>Month-to-month</td>\n",
       "      <td>Yes</td>\n",
       "      <td>Mailed check</td>\n",
       "      <td>53.85</td>\n",
       "      <td>108.15</td>\n",
       "    </tr>\n",
       "    <tr>\n",
       "      <th>3</th>\n",
       "      <td>Male</td>\n",
       "      <td>0</td>\n",
       "      <td>No</td>\n",
       "      <td>No</td>\n",
       "      <td>45</td>\n",
       "      <td>No</td>\n",
       "      <td>No phone service</td>\n",
       "      <td>DSL</td>\n",
       "      <td>Yes</td>\n",
       "      <td>No</td>\n",
       "      <td>Yes</td>\n",
       "      <td>Yes</td>\n",
       "      <td>No</td>\n",
       "      <td>No</td>\n",
       "      <td>One year</td>\n",
       "      <td>No</td>\n",
       "      <td>Bank transfer (automatic)</td>\n",
       "      <td>42.30</td>\n",
       "      <td>1840.75</td>\n",
       "    </tr>\n",
       "    <tr>\n",
       "      <th>4</th>\n",
       "      <td>Female</td>\n",
       "      <td>0</td>\n",
       "      <td>No</td>\n",
       "      <td>No</td>\n",
       "      <td>2</td>\n",
       "      <td>Yes</td>\n",
       "      <td>No</td>\n",
       "      <td>Fiber optic</td>\n",
       "      <td>No</td>\n",
       "      <td>No</td>\n",
       "      <td>No</td>\n",
       "      <td>No</td>\n",
       "      <td>No</td>\n",
       "      <td>No</td>\n",
       "      <td>Month-to-month</td>\n",
       "      <td>Yes</td>\n",
       "      <td>Electronic check</td>\n",
       "      <td>70.70</td>\n",
       "      <td>151.65</td>\n",
       "    </tr>\n",
       "  </tbody>\n",
       "</table>\n",
       "</div>"
      ],
      "text/plain": [
       "   gender  SeniorCitizen Partner Dependents  tenure PhoneService  \\\n",
       "0  Female              0     Yes         No       1           No   \n",
       "1    Male              0      No         No      34          Yes   \n",
       "2    Male              0      No         No       2          Yes   \n",
       "3    Male              0      No         No      45           No   \n",
       "4  Female              0      No         No       2          Yes   \n",
       "\n",
       "      MultipleLines InternetService OnlineSecurity OnlineBackup  \\\n",
       "0  No phone service             DSL             No          Yes   \n",
       "1                No             DSL            Yes           No   \n",
       "2                No             DSL            Yes          Yes   \n",
       "3  No phone service             DSL            Yes           No   \n",
       "4                No     Fiber optic             No           No   \n",
       "\n",
       "  DeviceProtection TechSupport StreamingTV StreamingMovies        Contract  \\\n",
       "0               No          No          No              No  Month-to-month   \n",
       "1              Yes          No          No              No        One year   \n",
       "2               No          No          No              No  Month-to-month   \n",
       "3              Yes         Yes          No              No        One year   \n",
       "4               No          No          No              No  Month-to-month   \n",
       "\n",
       "  PaperlessBilling              PaymentMethod  MonthlyCharges TotalCharges  \n",
       "0              Yes           Electronic check           29.85        29.85  \n",
       "1               No               Mailed check           56.95       1889.5  \n",
       "2              Yes               Mailed check           53.85       108.15  \n",
       "3               No  Bank transfer (automatic)           42.30      1840.75  \n",
       "4              Yes           Electronic check           70.70       151.65  "
      ]
     },
     "execution_count": 4,
     "metadata": {},
     "output_type": "execute_result"
    }
   ],
   "source": [
    "data.drop(['customerID','Churn'],axis=1,inplace=True)\n",
    "data.head()"
   ]
  },
  {
   "cell_type": "markdown",
   "metadata": {
    "papermill": {
     "duration": 0.029501,
     "end_time": "2021-02-09T10:57:25.237081",
     "exception": false,
     "start_time": "2021-02-09T10:57:25.207580",
     "status": "completed"
    },
    "tags": []
   },
   "source": [
    "Checking if there exists any NULL in the data, so it doesn't throw any errors afterwards while fitting the model to the data."
   ]
  },
  {
   "cell_type": "code",
   "execution_count": 5,
   "metadata": {
    "execution": {
     "iopub.execute_input": "2021-02-09T10:57:25.304053Z",
     "iopub.status.busy": "2021-02-09T10:57:25.303125Z",
     "iopub.status.idle": "2021-02-09T10:57:25.317958Z",
     "shell.execute_reply": "2021-02-09T10:57:25.318502Z"
    },
    "id": "OBX4fHBOGCe8",
    "outputId": "56cc0c1d-8ae8-42f5-93e0-75dd66ec4da8",
    "papermill": {
     "duration": 0.05565,
     "end_time": "2021-02-09T10:57:25.318681",
     "exception": false,
     "start_time": "2021-02-09T10:57:25.263031",
     "status": "completed"
    },
    "tags": []
   },
   "outputs": [
    {
     "name": "stdout",
     "output_type": "stream",
     "text": [
      "gender              0\n",
      "SeniorCitizen       0\n",
      "Partner             0\n",
      "Dependents          0\n",
      "tenure              0\n",
      "PhoneService        0\n",
      "MultipleLines       0\n",
      "InternetService     0\n",
      "OnlineSecurity      0\n",
      "OnlineBackup        0\n",
      "DeviceProtection    0\n",
      "TechSupport         0\n",
      "StreamingTV         0\n",
      "StreamingMovies     0\n",
      "Contract            0\n",
      "PaperlessBilling    0\n",
      "PaymentMethod       0\n",
      "MonthlyCharges      0\n",
      "TotalCharges        0\n",
      "dtype: int64\n"
     ]
    }
   ],
   "source": [
    "print(data.isnull().sum())"
   ]
  },
  {
   "cell_type": "markdown",
   "metadata": {
    "papermill": {
     "duration": 0.024463,
     "end_time": "2021-02-09T10:57:25.367038",
     "exception": false,
     "start_time": "2021-02-09T10:57:25.342575",
     "status": "completed"
    },
    "tags": []
   },
   "source": [
    "To check how many unique variables exist in the gender column"
   ]
  },
  {
   "cell_type": "code",
   "execution_count": 6,
   "metadata": {
    "execution": {
     "iopub.execute_input": "2021-02-09T10:57:25.441858Z",
     "iopub.status.busy": "2021-02-09T10:57:25.440909Z",
     "iopub.status.idle": "2021-02-09T10:57:25.444612Z",
     "shell.execute_reply": "2021-02-09T10:57:25.445129Z"
    },
    "id": "yaR2v5hDGCe8",
    "outputId": "9dd96c49-b831-4aff-dedd-74d84e4d2bdd",
    "papermill": {
     "duration": 0.042526,
     "end_time": "2021-02-09T10:57:25.445307",
     "exception": false,
     "start_time": "2021-02-09T10:57:25.402781",
     "status": "completed"
    },
    "tags": []
   },
   "outputs": [
    {
     "data": {
      "text/plain": [
       "array(['Female', 'Male'], dtype=object)"
      ]
     },
     "execution_count": 6,
     "metadata": {},
     "output_type": "execute_result"
    }
   ],
   "source": [
    "data['gender'].unique()"
   ]
  },
  {
   "cell_type": "code",
   "execution_count": 7,
   "metadata": {
    "execution": {
     "iopub.execute_input": "2021-02-09T10:57:25.506435Z",
     "iopub.status.busy": "2021-02-09T10:57:25.505394Z",
     "iopub.status.idle": "2021-02-09T10:57:25.515216Z",
     "shell.execute_reply": "2021-02-09T10:57:25.514473Z"
    },
    "id": "NJi9V1r5GCe8",
    "outputId": "d4dee820-41d4-42f5-c14b-3d8c4a85fa46",
    "papermill": {
     "duration": 0.045901,
     "end_time": "2021-02-09T10:57:25.515365",
     "exception": false,
     "start_time": "2021-02-09T10:57:25.469464",
     "status": "completed"
    },
    "tags": []
   },
   "outputs": [
    {
     "data": {
      "text/plain": [
       "array(['Electronic check', 'Mailed check', 'Bank transfer (automatic)',\n",
       "       'Credit card (automatic)'], dtype=object)"
      ]
     },
     "execution_count": 7,
     "metadata": {},
     "output_type": "execute_result"
    }
   ],
   "source": [
    "data['PaymentMethod'].unique()"
   ]
  },
  {
   "cell_type": "markdown",
   "metadata": {
    "papermill": {
     "duration": 0.029041,
     "end_time": "2021-02-09T10:57:25.574906",
     "exception": false,
     "start_time": "2021-02-09T10:57:25.545865",
     "status": "completed"
    },
    "tags": []
   },
   "source": [
    "Here, i have directly chosen to encode the variables in numeric form."
   ]
  },
  {
   "cell_type": "code",
   "execution_count": 8,
   "metadata": {
    "execution": {
     "iopub.execute_input": "2021-02-09T10:57:25.630456Z",
     "iopub.status.busy": "2021-02-09T10:57:25.629601Z",
     "iopub.status.idle": "2021-02-09T10:57:26.692587Z",
     "shell.execute_reply": "2021-02-09T10:57:26.691377Z"
    },
    "id": "96QU1xd_GCe8",
    "outputId": "16661752-ff77-4ffd-be0a-da35c8469f18",
    "papermill": {
     "duration": 1.092344,
     "end_time": "2021-02-09T10:57:26.692767",
     "exception": false,
     "start_time": "2021-02-09T10:57:25.600423",
     "status": "completed"
    },
    "tags": []
   },
   "outputs": [
    {
     "data": {
      "text/html": [
       "<div>\n",
       "<style scoped>\n",
       "    .dataframe tbody tr th:only-of-type {\n",
       "        vertical-align: middle;\n",
       "    }\n",
       "\n",
       "    .dataframe tbody tr th {\n",
       "        vertical-align: top;\n",
       "    }\n",
       "\n",
       "    .dataframe thead th {\n",
       "        text-align: right;\n",
       "    }\n",
       "</style>\n",
       "<table border=\"1\" class=\"dataframe\">\n",
       "  <thead>\n",
       "    <tr style=\"text-align: right;\">\n",
       "      <th></th>\n",
       "      <th>gender</th>\n",
       "      <th>SeniorCitizen</th>\n",
       "      <th>Partner</th>\n",
       "      <th>Dependents</th>\n",
       "      <th>tenure</th>\n",
       "      <th>PhoneService</th>\n",
       "      <th>MultipleLines</th>\n",
       "      <th>InternetService</th>\n",
       "      <th>OnlineSecurity</th>\n",
       "      <th>OnlineBackup</th>\n",
       "      <th>DeviceProtection</th>\n",
       "      <th>TechSupport</th>\n",
       "      <th>StreamingTV</th>\n",
       "      <th>StreamingMovies</th>\n",
       "      <th>Contract</th>\n",
       "      <th>PaperlessBilling</th>\n",
       "      <th>PaymentMethod</th>\n",
       "      <th>MonthlyCharges</th>\n",
       "      <th>TotalCharges</th>\n",
       "    </tr>\n",
       "  </thead>\n",
       "  <tbody>\n",
       "    <tr>\n",
       "      <th>0</th>\n",
       "      <td>0</td>\n",
       "      <td>0</td>\n",
       "      <td>Yes</td>\n",
       "      <td>No</td>\n",
       "      <td>1</td>\n",
       "      <td>No</td>\n",
       "      <td>No phone service</td>\n",
       "      <td>DSL</td>\n",
       "      <td>No</td>\n",
       "      <td>Yes</td>\n",
       "      <td>No</td>\n",
       "      <td>No</td>\n",
       "      <td>No</td>\n",
       "      <td>No</td>\n",
       "      <td>Month-to-month</td>\n",
       "      <td>Yes</td>\n",
       "      <td>Electronic check</td>\n",
       "      <td>29.85</td>\n",
       "      <td>29.85</td>\n",
       "    </tr>\n",
       "    <tr>\n",
       "      <th>1</th>\n",
       "      <td>1</td>\n",
       "      <td>0</td>\n",
       "      <td>No</td>\n",
       "      <td>No</td>\n",
       "      <td>34</td>\n",
       "      <td>Yes</td>\n",
       "      <td>No</td>\n",
       "      <td>DSL</td>\n",
       "      <td>Yes</td>\n",
       "      <td>No</td>\n",
       "      <td>Yes</td>\n",
       "      <td>No</td>\n",
       "      <td>No</td>\n",
       "      <td>No</td>\n",
       "      <td>One year</td>\n",
       "      <td>No</td>\n",
       "      <td>Mailed check</td>\n",
       "      <td>56.95</td>\n",
       "      <td>1889.5</td>\n",
       "    </tr>\n",
       "    <tr>\n",
       "      <th>2</th>\n",
       "      <td>1</td>\n",
       "      <td>0</td>\n",
       "      <td>No</td>\n",
       "      <td>No</td>\n",
       "      <td>2</td>\n",
       "      <td>Yes</td>\n",
       "      <td>No</td>\n",
       "      <td>DSL</td>\n",
       "      <td>Yes</td>\n",
       "      <td>Yes</td>\n",
       "      <td>No</td>\n",
       "      <td>No</td>\n",
       "      <td>No</td>\n",
       "      <td>No</td>\n",
       "      <td>Month-to-month</td>\n",
       "      <td>Yes</td>\n",
       "      <td>Mailed check</td>\n",
       "      <td>53.85</td>\n",
       "      <td>108.15</td>\n",
       "    </tr>\n",
       "    <tr>\n",
       "      <th>3</th>\n",
       "      <td>1</td>\n",
       "      <td>0</td>\n",
       "      <td>No</td>\n",
       "      <td>No</td>\n",
       "      <td>45</td>\n",
       "      <td>No</td>\n",
       "      <td>No phone service</td>\n",
       "      <td>DSL</td>\n",
       "      <td>Yes</td>\n",
       "      <td>No</td>\n",
       "      <td>Yes</td>\n",
       "      <td>Yes</td>\n",
       "      <td>No</td>\n",
       "      <td>No</td>\n",
       "      <td>One year</td>\n",
       "      <td>No</td>\n",
       "      <td>Bank transfer (automatic)</td>\n",
       "      <td>42.30</td>\n",
       "      <td>1840.75</td>\n",
       "    </tr>\n",
       "    <tr>\n",
       "      <th>4</th>\n",
       "      <td>0</td>\n",
       "      <td>0</td>\n",
       "      <td>No</td>\n",
       "      <td>No</td>\n",
       "      <td>2</td>\n",
       "      <td>Yes</td>\n",
       "      <td>No</td>\n",
       "      <td>Fiber optic</td>\n",
       "      <td>No</td>\n",
       "      <td>No</td>\n",
       "      <td>No</td>\n",
       "      <td>No</td>\n",
       "      <td>No</td>\n",
       "      <td>No</td>\n",
       "      <td>Month-to-month</td>\n",
       "      <td>Yes</td>\n",
       "      <td>Electronic check</td>\n",
       "      <td>70.70</td>\n",
       "      <td>151.65</td>\n",
       "    </tr>\n",
       "  </tbody>\n",
       "</table>\n",
       "</div>"
      ],
      "text/plain": [
       "   gender  SeniorCitizen Partner Dependents  tenure PhoneService  \\\n",
       "0       0              0     Yes         No       1           No   \n",
       "1       1              0      No         No      34          Yes   \n",
       "2       1              0      No         No       2          Yes   \n",
       "3       1              0      No         No      45           No   \n",
       "4       0              0      No         No       2          Yes   \n",
       "\n",
       "      MultipleLines InternetService OnlineSecurity OnlineBackup  \\\n",
       "0  No phone service             DSL             No          Yes   \n",
       "1                No             DSL            Yes           No   \n",
       "2                No             DSL            Yes          Yes   \n",
       "3  No phone service             DSL            Yes           No   \n",
       "4                No     Fiber optic             No           No   \n",
       "\n",
       "  DeviceProtection TechSupport StreamingTV StreamingMovies        Contract  \\\n",
       "0               No          No          No              No  Month-to-month   \n",
       "1              Yes          No          No              No        One year   \n",
       "2               No          No          No              No  Month-to-month   \n",
       "3              Yes         Yes          No              No        One year   \n",
       "4               No          No          No              No  Month-to-month   \n",
       "\n",
       "  PaperlessBilling              PaymentMethod  MonthlyCharges TotalCharges  \n",
       "0              Yes           Electronic check           29.85        29.85  \n",
       "1               No               Mailed check           56.95       1889.5  \n",
       "2              Yes               Mailed check           53.85       108.15  \n",
       "3               No  Bank transfer (automatic)           42.30      1840.75  \n",
       "4              Yes           Electronic check           70.70       151.65  "
      ]
     },
     "execution_count": 8,
     "metadata": {},
     "output_type": "execute_result"
    }
   ],
   "source": [
    "from sklearn.preprocessing import LabelEncoder\n",
    "\n",
    "le=LabelEncoder()\n",
    "data['gender']=le.fit_transform(data['gender'])\n",
    "data.head()"
   ]
  },
  {
   "cell_type": "code",
   "execution_count": 9,
   "metadata": {
    "execution": {
     "iopub.execute_input": "2021-02-09T10:57:26.750829Z",
     "iopub.status.busy": "2021-02-09T10:57:26.750093Z",
     "iopub.status.idle": "2021-02-09T10:57:26.752788Z",
     "shell.execute_reply": "2021-02-09T10:57:26.753368Z"
    },
    "id": "Ply2LYVrGCe9",
    "outputId": "d01cec31-be16-47df-d2a0-330c6689e533",
    "papermill": {
     "duration": 0.034672,
     "end_time": "2021-02-09T10:57:26.753563",
     "exception": false,
     "start_time": "2021-02-09T10:57:26.718891",
     "status": "completed"
    },
    "tags": []
   },
   "outputs": [
    {
     "data": {
      "text/plain": [
       "Index(['gender', 'SeniorCitizen', 'Partner', 'Dependents', 'tenure',\n",
       "       'PhoneService', 'MultipleLines', 'InternetService', 'OnlineSecurity',\n",
       "       'OnlineBackup', 'DeviceProtection', 'TechSupport', 'StreamingTV',\n",
       "       'StreamingMovies', 'Contract', 'PaperlessBilling', 'PaymentMethod',\n",
       "       'MonthlyCharges', 'TotalCharges'],\n",
       "      dtype='object')"
      ]
     },
     "execution_count": 9,
     "metadata": {},
     "output_type": "execute_result"
    }
   ],
   "source": [
    "cols=data.columns\n",
    "cols"
   ]
  },
  {
   "cell_type": "code",
   "execution_count": 10,
   "metadata": {
    "execution": {
     "iopub.execute_input": "2021-02-09T10:57:26.809085Z",
     "iopub.status.busy": "2021-02-09T10:57:26.808409Z",
     "iopub.status.idle": "2021-02-09T10:57:26.820068Z",
     "shell.execute_reply": "2021-02-09T10:57:26.819490Z"
    },
    "id": "UyxNTjvwGCe9",
    "outputId": "930f355e-78cb-4a59-80d7-8f9e6f73d2ca",
    "papermill": {
     "duration": 0.040548,
     "end_time": "2021-02-09T10:57:26.820209",
     "exception": false,
     "start_time": "2021-02-09T10:57:26.779661",
     "status": "completed"
    },
    "tags": []
   },
   "outputs": [
    {
     "data": {
      "text/plain": [
       "Index(['Partner', 'Dependents', 'PhoneService', 'MultipleLines',\n",
       "       'InternetService', 'OnlineSecurity', 'OnlineBackup', 'DeviceProtection',\n",
       "       'TechSupport', 'StreamingTV', 'StreamingMovies', 'Contract',\n",
       "       'PaperlessBilling', 'PaymentMethod', 'TotalCharges'],\n",
       "      dtype='object')"
      ]
     },
     "execution_count": 10,
     "metadata": {},
     "output_type": "execute_result"
    }
   ],
   "source": [
    "cat_cols=data.select_dtypes(exclude=['int','float']).columns\n",
    "cat_cols"
   ]
  },
  {
   "cell_type": "code",
   "execution_count": 11,
   "metadata": {
    "execution": {
     "iopub.execute_input": "2021-02-09T10:57:26.880595Z",
     "iopub.status.busy": "2021-02-09T10:57:26.879904Z",
     "iopub.status.idle": "2021-02-09T10:57:26.882952Z",
     "shell.execute_reply": "2021-02-09T10:57:26.883468Z"
    },
    "id": "vdILy-DLGCe9",
    "outputId": "974a0a09-3483-444a-a319-c0f091de3651",
    "papermill": {
     "duration": 0.037091,
     "end_time": "2021-02-09T10:57:26.883645",
     "exception": false,
     "start_time": "2021-02-09T10:57:26.846554",
     "status": "completed"
    },
    "tags": []
   },
   "outputs": [
    {
     "data": {
      "text/plain": [
       "gender                int64\n",
       "SeniorCitizen         int64\n",
       "Partner              object\n",
       "Dependents           object\n",
       "tenure                int64\n",
       "PhoneService         object\n",
       "MultipleLines        object\n",
       "InternetService      object\n",
       "OnlineSecurity       object\n",
       "OnlineBackup         object\n",
       "DeviceProtection     object\n",
       "TechSupport          object\n",
       "StreamingTV          object\n",
       "StreamingMovies      object\n",
       "Contract             object\n",
       "PaperlessBilling     object\n",
       "PaymentMethod        object\n",
       "MonthlyCharges      float64\n",
       "TotalCharges         object\n",
       "dtype: object"
      ]
     },
     "execution_count": 11,
     "metadata": {},
     "output_type": "execute_result"
    }
   ],
   "source": [
    "data.dtypes"
   ]
  },
  {
   "cell_type": "code",
   "execution_count": 12,
   "metadata": {
    "execution": {
     "iopub.execute_input": "2021-02-09T10:57:26.943561Z",
     "iopub.status.busy": "2021-02-09T10:57:26.942870Z",
     "iopub.status.idle": "2021-02-09T10:57:26.949233Z",
     "shell.execute_reply": "2021-02-09T10:57:26.949823Z"
    },
    "id": "5cQtAa5lGCe9",
    "outputId": "30567257-d01f-4e25-80af-598848914009",
    "papermill": {
     "duration": 0.0386,
     "end_time": "2021-02-09T10:57:26.950068",
     "exception": false,
     "start_time": "2021-02-09T10:57:26.911468",
     "status": "completed"
    },
    "tags": []
   },
   "outputs": [
    {
     "data": {
      "text/plain": [
       "['Partner',\n",
       " 'Dependents',\n",
       " 'PhoneService',\n",
       " 'MultipleLines',\n",
       " 'InternetService',\n",
       " 'OnlineSecurity',\n",
       " 'OnlineBackup',\n",
       " 'DeviceProtection',\n",
       " 'TechSupport',\n",
       " 'StreamingTV',\n",
       " 'StreamingMovies',\n",
       " 'Contract',\n",
       " 'PaperlessBilling',\n",
       " 'PaymentMethod']"
      ]
     },
     "execution_count": 12,
     "metadata": {},
     "output_type": "execute_result"
    }
   ],
   "source": [
    "enc_data=list(cat_cols)\n",
    "enc_data=enc_data[:-1]\n",
    "enc_data"
   ]
  },
  {
   "cell_type": "code",
   "execution_count": 13,
   "metadata": {
    "execution": {
     "iopub.execute_input": "2021-02-09T10:57:27.012275Z",
     "iopub.status.busy": "2021-02-09T10:57:27.011583Z",
     "iopub.status.idle": "2021-02-09T10:57:27.075760Z",
     "shell.execute_reply": "2021-02-09T10:57:27.075067Z"
    },
    "id": "f41vcww8GCe9",
    "outputId": "ec276826-359a-4796-bfdf-1c720112ba3e",
    "papermill": {
     "duration": 0.097675,
     "end_time": "2021-02-09T10:57:27.075911",
     "exception": false,
     "start_time": "2021-02-09T10:57:26.978236",
     "status": "completed"
    },
    "tags": []
   },
   "outputs": [
    {
     "data": {
      "text/html": [
       "<div>\n",
       "<style scoped>\n",
       "    .dataframe tbody tr th:only-of-type {\n",
       "        vertical-align: middle;\n",
       "    }\n",
       "\n",
       "    .dataframe tbody tr th {\n",
       "        vertical-align: top;\n",
       "    }\n",
       "\n",
       "    .dataframe thead th {\n",
       "        text-align: right;\n",
       "    }\n",
       "</style>\n",
       "<table border=\"1\" class=\"dataframe\">\n",
       "  <thead>\n",
       "    <tr style=\"text-align: right;\">\n",
       "      <th></th>\n",
       "      <th>Partner</th>\n",
       "      <th>Dependents</th>\n",
       "      <th>PhoneService</th>\n",
       "      <th>MultipleLines</th>\n",
       "      <th>InternetService</th>\n",
       "      <th>OnlineSecurity</th>\n",
       "      <th>OnlineBackup</th>\n",
       "      <th>DeviceProtection</th>\n",
       "      <th>TechSupport</th>\n",
       "      <th>StreamingTV</th>\n",
       "      <th>StreamingMovies</th>\n",
       "      <th>Contract</th>\n",
       "      <th>PaperlessBilling</th>\n",
       "      <th>PaymentMethod</th>\n",
       "    </tr>\n",
       "  </thead>\n",
       "  <tbody>\n",
       "    <tr>\n",
       "      <th>0</th>\n",
       "      <td>1</td>\n",
       "      <td>0</td>\n",
       "      <td>0</td>\n",
       "      <td>1</td>\n",
       "      <td>0</td>\n",
       "      <td>0</td>\n",
       "      <td>2</td>\n",
       "      <td>0</td>\n",
       "      <td>0</td>\n",
       "      <td>0</td>\n",
       "      <td>0</td>\n",
       "      <td>0</td>\n",
       "      <td>1</td>\n",
       "      <td>2</td>\n",
       "    </tr>\n",
       "    <tr>\n",
       "      <th>1</th>\n",
       "      <td>0</td>\n",
       "      <td>0</td>\n",
       "      <td>1</td>\n",
       "      <td>0</td>\n",
       "      <td>0</td>\n",
       "      <td>2</td>\n",
       "      <td>0</td>\n",
       "      <td>2</td>\n",
       "      <td>0</td>\n",
       "      <td>0</td>\n",
       "      <td>0</td>\n",
       "      <td>1</td>\n",
       "      <td>0</td>\n",
       "      <td>3</td>\n",
       "    </tr>\n",
       "    <tr>\n",
       "      <th>2</th>\n",
       "      <td>0</td>\n",
       "      <td>0</td>\n",
       "      <td>1</td>\n",
       "      <td>0</td>\n",
       "      <td>0</td>\n",
       "      <td>2</td>\n",
       "      <td>2</td>\n",
       "      <td>0</td>\n",
       "      <td>0</td>\n",
       "      <td>0</td>\n",
       "      <td>0</td>\n",
       "      <td>0</td>\n",
       "      <td>1</td>\n",
       "      <td>3</td>\n",
       "    </tr>\n",
       "    <tr>\n",
       "      <th>3</th>\n",
       "      <td>0</td>\n",
       "      <td>0</td>\n",
       "      <td>0</td>\n",
       "      <td>1</td>\n",
       "      <td>0</td>\n",
       "      <td>2</td>\n",
       "      <td>0</td>\n",
       "      <td>2</td>\n",
       "      <td>2</td>\n",
       "      <td>0</td>\n",
       "      <td>0</td>\n",
       "      <td>1</td>\n",
       "      <td>0</td>\n",
       "      <td>0</td>\n",
       "    </tr>\n",
       "    <tr>\n",
       "      <th>4</th>\n",
       "      <td>0</td>\n",
       "      <td>0</td>\n",
       "      <td>1</td>\n",
       "      <td>0</td>\n",
       "      <td>1</td>\n",
       "      <td>0</td>\n",
       "      <td>0</td>\n",
       "      <td>0</td>\n",
       "      <td>0</td>\n",
       "      <td>0</td>\n",
       "      <td>0</td>\n",
       "      <td>0</td>\n",
       "      <td>1</td>\n",
       "      <td>2</td>\n",
       "    </tr>\n",
       "  </tbody>\n",
       "</table>\n",
       "</div>"
      ],
      "text/plain": [
       "   Partner  Dependents  PhoneService  MultipleLines  InternetService  \\\n",
       "0        1           0             0              1                0   \n",
       "1        0           0             1              0                0   \n",
       "2        0           0             1              0                0   \n",
       "3        0           0             0              1                0   \n",
       "4        0           0             1              0                1   \n",
       "\n",
       "   OnlineSecurity  OnlineBackup  DeviceProtection  TechSupport  StreamingTV  \\\n",
       "0               0             2                 0            0            0   \n",
       "1               2             0                 2            0            0   \n",
       "2               2             2                 0            0            0   \n",
       "3               2             0                 2            2            0   \n",
       "4               0             0                 0            0            0   \n",
       "\n",
       "   StreamingMovies  Contract  PaperlessBilling  PaymentMethod  \n",
       "0                0         0                 1              2  \n",
       "1                0         1                 0              3  \n",
       "2                0         0                 1              3  \n",
       "3                0         1                 0              0  \n",
       "4                0         0                 1              2  "
      ]
     },
     "execution_count": 13,
     "metadata": {},
     "output_type": "execute_result"
    }
   ],
   "source": [
    "data[enc_data]=data[enc_data].apply(lambda col:le.fit_transform(col))\n",
    "data[enc_data].head()"
   ]
  },
  {
   "cell_type": "code",
   "execution_count": 14,
   "metadata": {
    "execution": {
     "iopub.execute_input": "2021-02-09T10:57:27.151280Z",
     "iopub.status.busy": "2021-02-09T10:57:27.150313Z",
     "iopub.status.idle": "2021-02-09T10:57:27.155574Z",
     "shell.execute_reply": "2021-02-09T10:57:27.154917Z"
    },
    "id": "F93pGBJIGCe9",
    "outputId": "8c3befbf-5fd2-4ea2-f1c3-9c9f9667134f",
    "papermill": {
     "duration": 0.0516,
     "end_time": "2021-02-09T10:57:27.155719",
     "exception": false,
     "start_time": "2021-02-09T10:57:27.104119",
     "status": "completed"
    },
    "tags": []
   },
   "outputs": [
    {
     "data": {
      "text/html": [
       "<div>\n",
       "<style scoped>\n",
       "    .dataframe tbody tr th:only-of-type {\n",
       "        vertical-align: middle;\n",
       "    }\n",
       "\n",
       "    .dataframe tbody tr th {\n",
       "        vertical-align: top;\n",
       "    }\n",
       "\n",
       "    .dataframe thead th {\n",
       "        text-align: right;\n",
       "    }\n",
       "</style>\n",
       "<table border=\"1\" class=\"dataframe\">\n",
       "  <thead>\n",
       "    <tr style=\"text-align: right;\">\n",
       "      <th></th>\n",
       "      <th>gender</th>\n",
       "      <th>SeniorCitizen</th>\n",
       "      <th>Partner</th>\n",
       "      <th>Dependents</th>\n",
       "      <th>tenure</th>\n",
       "      <th>PhoneService</th>\n",
       "      <th>MultipleLines</th>\n",
       "      <th>InternetService</th>\n",
       "      <th>OnlineSecurity</th>\n",
       "      <th>OnlineBackup</th>\n",
       "      <th>DeviceProtection</th>\n",
       "      <th>TechSupport</th>\n",
       "      <th>StreamingTV</th>\n",
       "      <th>StreamingMovies</th>\n",
       "      <th>Contract</th>\n",
       "      <th>PaperlessBilling</th>\n",
       "      <th>PaymentMethod</th>\n",
       "      <th>MonthlyCharges</th>\n",
       "      <th>TotalCharges</th>\n",
       "    </tr>\n",
       "  </thead>\n",
       "  <tbody>\n",
       "    <tr>\n",
       "      <th>0</th>\n",
       "      <td>0</td>\n",
       "      <td>0</td>\n",
       "      <td>1</td>\n",
       "      <td>0</td>\n",
       "      <td>1</td>\n",
       "      <td>0</td>\n",
       "      <td>1</td>\n",
       "      <td>0</td>\n",
       "      <td>0</td>\n",
       "      <td>2</td>\n",
       "      <td>0</td>\n",
       "      <td>0</td>\n",
       "      <td>0</td>\n",
       "      <td>0</td>\n",
       "      <td>0</td>\n",
       "      <td>1</td>\n",
       "      <td>2</td>\n",
       "      <td>29.85</td>\n",
       "      <td>29.85</td>\n",
       "    </tr>\n",
       "    <tr>\n",
       "      <th>1</th>\n",
       "      <td>1</td>\n",
       "      <td>0</td>\n",
       "      <td>0</td>\n",
       "      <td>0</td>\n",
       "      <td>34</td>\n",
       "      <td>1</td>\n",
       "      <td>0</td>\n",
       "      <td>0</td>\n",
       "      <td>2</td>\n",
       "      <td>0</td>\n",
       "      <td>2</td>\n",
       "      <td>0</td>\n",
       "      <td>0</td>\n",
       "      <td>0</td>\n",
       "      <td>1</td>\n",
       "      <td>0</td>\n",
       "      <td>3</td>\n",
       "      <td>56.95</td>\n",
       "      <td>1889.5</td>\n",
       "    </tr>\n",
       "    <tr>\n",
       "      <th>2</th>\n",
       "      <td>1</td>\n",
       "      <td>0</td>\n",
       "      <td>0</td>\n",
       "      <td>0</td>\n",
       "      <td>2</td>\n",
       "      <td>1</td>\n",
       "      <td>0</td>\n",
       "      <td>0</td>\n",
       "      <td>2</td>\n",
       "      <td>2</td>\n",
       "      <td>0</td>\n",
       "      <td>0</td>\n",
       "      <td>0</td>\n",
       "      <td>0</td>\n",
       "      <td>0</td>\n",
       "      <td>1</td>\n",
       "      <td>3</td>\n",
       "      <td>53.85</td>\n",
       "      <td>108.15</td>\n",
       "    </tr>\n",
       "    <tr>\n",
       "      <th>3</th>\n",
       "      <td>1</td>\n",
       "      <td>0</td>\n",
       "      <td>0</td>\n",
       "      <td>0</td>\n",
       "      <td>45</td>\n",
       "      <td>0</td>\n",
       "      <td>1</td>\n",
       "      <td>0</td>\n",
       "      <td>2</td>\n",
       "      <td>0</td>\n",
       "      <td>2</td>\n",
       "      <td>2</td>\n",
       "      <td>0</td>\n",
       "      <td>0</td>\n",
       "      <td>1</td>\n",
       "      <td>0</td>\n",
       "      <td>0</td>\n",
       "      <td>42.30</td>\n",
       "      <td>1840.75</td>\n",
       "    </tr>\n",
       "    <tr>\n",
       "      <th>4</th>\n",
       "      <td>0</td>\n",
       "      <td>0</td>\n",
       "      <td>0</td>\n",
       "      <td>0</td>\n",
       "      <td>2</td>\n",
       "      <td>1</td>\n",
       "      <td>0</td>\n",
       "      <td>1</td>\n",
       "      <td>0</td>\n",
       "      <td>0</td>\n",
       "      <td>0</td>\n",
       "      <td>0</td>\n",
       "      <td>0</td>\n",
       "      <td>0</td>\n",
       "      <td>0</td>\n",
       "      <td>1</td>\n",
       "      <td>2</td>\n",
       "      <td>70.70</td>\n",
       "      <td>151.65</td>\n",
       "    </tr>\n",
       "  </tbody>\n",
       "</table>\n",
       "</div>"
      ],
      "text/plain": [
       "   gender  SeniorCitizen  Partner  Dependents  tenure  PhoneService  \\\n",
       "0       0              0        1           0       1             0   \n",
       "1       1              0        0           0      34             1   \n",
       "2       1              0        0           0       2             1   \n",
       "3       1              0        0           0      45             0   \n",
       "4       0              0        0           0       2             1   \n",
       "\n",
       "   MultipleLines  InternetService  OnlineSecurity  OnlineBackup  \\\n",
       "0              1                0               0             2   \n",
       "1              0                0               2             0   \n",
       "2              0                0               2             2   \n",
       "3              1                0               2             0   \n",
       "4              0                1               0             0   \n",
       "\n",
       "   DeviceProtection  TechSupport  StreamingTV  StreamingMovies  Contract  \\\n",
       "0                 0            0            0                0         0   \n",
       "1                 2            0            0                0         1   \n",
       "2                 0            0            0                0         0   \n",
       "3                 2            2            0                0         1   \n",
       "4                 0            0            0                0         0   \n",
       "\n",
       "   PaperlessBilling  PaymentMethod  MonthlyCharges TotalCharges  \n",
       "0                 1              2           29.85        29.85  \n",
       "1                 0              3           56.95       1889.5  \n",
       "2                 1              3           53.85       108.15  \n",
       "3                 0              0           42.30      1840.75  \n",
       "4                 1              2           70.70       151.65  "
      ]
     },
     "execution_count": 14,
     "metadata": {},
     "output_type": "execute_result"
    }
   ],
   "source": [
    "data.head()"
   ]
  },
  {
   "cell_type": "code",
   "execution_count": 15,
   "metadata": {
    "execution": {
     "iopub.execute_input": "2021-02-09T10:57:27.219504Z",
     "iopub.status.busy": "2021-02-09T10:57:27.218728Z",
     "iopub.status.idle": "2021-02-09T10:57:27.221952Z",
     "shell.execute_reply": "2021-02-09T10:57:27.222455Z"
    },
    "id": "wEVUsVVRGCe9",
    "outputId": "dacf91cf-cff9-434e-ca7f-d4de6751c817",
    "papermill": {
     "duration": 0.03782,
     "end_time": "2021-02-09T10:57:27.222637",
     "exception": false,
     "start_time": "2021-02-09T10:57:27.184817",
     "status": "completed"
    },
    "tags": []
   },
   "outputs": [
    {
     "data": {
      "text/plain": [
       "(7043, 19)"
      ]
     },
     "execution_count": 15,
     "metadata": {},
     "output_type": "execute_result"
    }
   ],
   "source": [
    "data.shape"
   ]
  },
  {
   "cell_type": "code",
   "execution_count": 16,
   "metadata": {
    "execution": {
     "iopub.execute_input": "2021-02-09T10:57:27.290761Z",
     "iopub.status.busy": "2021-02-09T10:57:27.289779Z",
     "iopub.status.idle": "2021-02-09T10:57:27.293657Z",
     "shell.execute_reply": "2021-02-09T10:57:27.294137Z"
    },
    "id": "2eQo9XoVGCe-",
    "outputId": "00351a30-7223-45cc-d365-3cd1cda0649a",
    "papermill": {
     "duration": 0.04122,
     "end_time": "2021-02-09T10:57:27.294316",
     "exception": false,
     "start_time": "2021-02-09T10:57:27.253096",
     "status": "completed"
    },
    "tags": []
   },
   "outputs": [
    {
     "data": {
      "text/plain": [
       "gender                int64\n",
       "SeniorCitizen         int64\n",
       "Partner               int64\n",
       "Dependents            int64\n",
       "tenure                int64\n",
       "PhoneService          int64\n",
       "MultipleLines         int64\n",
       "InternetService       int64\n",
       "OnlineSecurity        int64\n",
       "OnlineBackup          int64\n",
       "DeviceProtection      int64\n",
       "TechSupport           int64\n",
       "StreamingTV           int64\n",
       "StreamingMovies       int64\n",
       "Contract              int64\n",
       "PaperlessBilling      int64\n",
       "PaymentMethod         int64\n",
       "MonthlyCharges      float64\n",
       "TotalCharges         object\n",
       "dtype: object"
      ]
     },
     "execution_count": 16,
     "metadata": {},
     "output_type": "execute_result"
    }
   ],
   "source": [
    "data.dtypes"
   ]
  },
  {
   "cell_type": "code",
   "execution_count": 17,
   "metadata": {
    "execution": {
     "iopub.execute_input": "2021-02-09T10:57:27.360720Z",
     "iopub.status.busy": "2021-02-09T10:57:27.359662Z",
     "iopub.status.idle": "2021-02-09T10:57:27.367095Z",
     "shell.execute_reply": "2021-02-09T10:57:27.366537Z"
    },
    "id": "XjwVnE6eGCe-",
    "outputId": "3ee0166e-6745-4857-f436-3b78fabc0498",
    "papermill": {
     "duration": 0.041918,
     "end_time": "2021-02-09T10:57:27.367247",
     "exception": false,
     "start_time": "2021-02-09T10:57:27.325329",
     "status": "completed"
    },
    "tags": []
   },
   "outputs": [
    {
     "name": "stdout",
     "output_type": "stream",
     "text": [
      "Unable to parse string \" \" at position 488\n"
     ]
    }
   ],
   "source": [
    "try:\n",
    "    data['TotalCharges']=pd.to_numeric(data['TotalCharges'])\n",
    "except Exception as e:\n",
    "    print(e)"
   ]
  },
  {
   "cell_type": "markdown",
   "metadata": {
    "papermill": {
     "duration": 0.029903,
     "end_time": "2021-02-09T10:57:27.427308",
     "exception": false,
     "start_time": "2021-02-09T10:57:27.397405",
     "status": "completed"
    },
    "tags": []
   },
   "source": [
    "The TotalCharges column was giving a weird error which was not able to solve. Hence i decided to drop the column for time being."
   ]
  },
  {
   "cell_type": "code",
   "execution_count": 18,
   "metadata": {
    "execution": {
     "iopub.execute_input": "2021-02-09T10:57:27.495987Z",
     "iopub.status.busy": "2021-02-09T10:57:27.494931Z",
     "iopub.status.idle": "2021-02-09T10:57:27.498412Z",
     "shell.execute_reply": "2021-02-09T10:57:27.498884Z"
    },
    "id": "AiDe02cEGCe-",
    "outputId": "83cc0ddf-947e-41b8-fef5-641d22307e28",
    "papermill": {
     "duration": 0.03975,
     "end_time": "2021-02-09T10:57:27.499097",
     "exception": false,
     "start_time": "2021-02-09T10:57:27.459347",
     "status": "completed"
    },
    "tags": []
   },
   "outputs": [
    {
     "data": {
      "text/plain": [
       "False"
      ]
     },
     "execution_count": 18,
     "metadata": {},
     "output_type": "execute_result"
    }
   ],
   "source": [
    "data['TotalCharges'].empty"
   ]
  },
  {
   "cell_type": "code",
   "execution_count": 19,
   "metadata": {
    "execution": {
     "iopub.execute_input": "2021-02-09T10:57:27.567897Z",
     "iopub.status.busy": "2021-02-09T10:57:27.567072Z",
     "iopub.status.idle": "2021-02-09T10:57:27.570421Z",
     "shell.execute_reply": "2021-02-09T10:57:27.569880Z"
    },
    "id": "tHd1Ij9LGCe-",
    "papermill": {
     "duration": 0.040364,
     "end_time": "2021-02-09T10:57:27.570571",
     "exception": false,
     "start_time": "2021-02-09T10:57:27.530207",
     "status": "completed"
    },
    "tags": []
   },
   "outputs": [],
   "source": [
    "data.drop(['TotalCharges'],axis=1,inplace=True)"
   ]
  },
  {
   "cell_type": "markdown",
   "metadata": {
    "papermill": {
     "duration": 0.030548,
     "end_time": "2021-02-09T10:57:27.632501",
     "exception": false,
     "start_time": "2021-02-09T10:57:27.601953",
     "status": "completed"
    },
    "tags": []
   },
   "source": [
    "We fit the KMeans clustering algorithm to the data inorder to verify the exact number of different types of customers we have in the dataset."
   ]
  },
  {
   "cell_type": "code",
   "execution_count": 20,
   "metadata": {
    "execution": {
     "iopub.execute_input": "2021-02-09T10:57:27.702109Z",
     "iopub.status.busy": "2021-02-09T10:57:27.701413Z",
     "iopub.status.idle": "2021-02-09T10:57:32.210260Z",
     "shell.execute_reply": "2021-02-09T10:57:32.211384Z"
    },
    "id": "_-428nhXGCe-",
    "outputId": "8a59c54c-db58-458e-8db9-44417f447792",
    "papermill": {
     "duration": 4.54856,
     "end_time": "2021-02-09T10:57:32.211660",
     "exception": false,
     "start_time": "2021-02-09T10:57:27.663100",
     "status": "completed"
    },
    "tags": []
   },
   "outputs": [
    {
     "name": "stdout",
     "output_type": "stream",
     "text": [
      "1 : 36.68230964496698\n",
      "2 : 26.302872499050977\n",
      "3 : 19.9759210433515\n",
      "4 : 16.67834260421192\n",
      "5 : 14.936588233657353\n",
      "6 : 13.180230207819363\n",
      "7 : 11.882972826174568\n",
      "8 : 11.14649680751221\n",
      "9 : 10.430387601869333\n",
      "10 : 9.764044367338048\n",
      "11 : 9.221995575975464\n",
      "12 : 8.74795873281237\n",
      "13 : 8.372475215843766\n",
      "14 : 8.056690145652057\n"
     ]
    }
   ],
   "source": [
    "from scipy.spatial.distance import cdist\n",
    "from sklearn.cluster import KMeans\n",
    "distortions = []\n",
    "mapping1 = {} \n",
    "k=range(1,15)\n",
    "for i in k:\n",
    "    kmeanModel = KMeans(n_clusters=i) \n",
    "    kmeanModel.fit(data)\n",
    "    distortions.append(sum(np.min(cdist(data, kmeanModel.cluster_centers_,'euclidean'),axis=1)) / data.shape[0])\n",
    "    mapping1[i] = sum(np.min(cdist(data, kmeanModel.cluster_centers_,'euclidean'),axis=1)) / data.shape[0]\n",
    "for key,val in mapping1.items(): \n",
    "    print(str(key)+' : '+str(val))"
   ]
  },
  {
   "cell_type": "code",
   "execution_count": 21,
   "metadata": {
    "execution": {
     "iopub.execute_input": "2021-02-09T10:57:32.308715Z",
     "iopub.status.busy": "2021-02-09T10:57:32.307997Z",
     "iopub.status.idle": "2021-02-09T10:57:32.508052Z",
     "shell.execute_reply": "2021-02-09T10:57:32.508984Z"
    },
    "id": "0_OzTc2DGCe-",
    "outputId": "5fb44cda-5913-40a0-96f9-4fe9f41de63b",
    "papermill": {
     "duration": 0.257918,
     "end_time": "2021-02-09T10:57:32.509190",
     "exception": false,
     "start_time": "2021-02-09T10:57:32.251272",
     "status": "completed"
    },
    "tags": []
   },
   "outputs": [
    {
     "data": {
      "image/png": "[encoded data removed]",
      "text/plain": [
       "<Figure size 432x288 with 1 Axes>"
      ]
     },
     "metadata": {
      "needs_background": "light"
     },
     "output_type": "display_data"
    }
   ],
   "source": [
    "import matplotlib.pyplot as plt\n",
    "plt.plot(k, distortions, 'bx-') \n",
    "plt.xlabel('Values of K') \n",
    "plt.ylabel('Distortion') \n",
    "plt.title('The Elbow Method using Distortion') \n",
    "plt.show() "
   ]
  },
  {
   "cell_type": "code",
   "execution_count": 22,
   "metadata": {
    "execution": {
     "iopub.execute_input": "2021-02-09T10:57:32.605167Z",
     "iopub.status.busy": "2021-02-09T10:57:32.604412Z",
     "iopub.status.idle": "2021-02-09T10:57:36.139139Z",
     "shell.execute_reply": "2021-02-09T10:57:36.140239Z"
    },
    "id": "WwzY9jeiGCe-",
    "outputId": "b6c0bc2e-5380-4157-a3b2-9b4ccf322d75",
    "papermill": {
     "duration": 3.592418,
     "end_time": "2021-02-09T10:57:36.140470",
     "exception": false,
     "start_time": "2021-02-09T10:57:32.548052",
     "status": "completed"
    },
    "tags": []
   },
   "outputs": [
    {
     "name": "stdout",
     "output_type": "stream",
     "text": [
      "1 : 10687156.4507688\n",
      "2 : 5554306.6291463515\n",
      "3 : 3360012.9238692014\n",
      "4 : 2210058.536871868\n",
      "5 : 1781650.7565938963\n",
      "6 : 1407652.1295139021\n",
      "7 : 1165866.6089834906\n",
      "8 : 1026908.8713012655\n",
      "9 : 904220.4439058218\n",
      "10 : 792877.4885420185\n",
      "11 : 699400.7693598018\n",
      "12 : 625251.8984487422\n",
      "13 : 579913.5599272876\n",
      "14 : 537066.2703333905\n"
     ]
    }
   ],
   "source": [
    "import matplotlib.pyplot as plt\n",
    "Sum_of_squared_distances = []\n",
    "mapp={}\n",
    "K = range(1,15)\n",
    "for k in K:\n",
    "    km = KMeans(n_clusters=k)\n",
    "    km = km.fit(data)\n",
    "    Sum_of_squared_distances.append(km.inertia_)\n",
    "    mapp[k]=km.inertia_\n",
    "for key,val in mapp.items(): \n",
    "    print(str(key)+' : '+str(val)) "
   ]
  },
  {
   "cell_type": "code",
   "execution_count": 23,
   "metadata": {
    "execution": {
     "iopub.execute_input": "2021-02-09T10:57:36.239755Z",
     "iopub.status.busy": "2021-02-09T10:57:36.238998Z",
     "iopub.status.idle": "2021-02-09T10:57:36.414811Z",
     "shell.execute_reply": "2021-02-09T10:57:36.415439Z"
    },
    "id": "D1UwKtIsGCe-",
    "outputId": "6cfe3bc4-712f-4a83-e1ac-cc230a94b969",
    "papermill": {
     "duration": 0.234448,
     "end_time": "2021-02-09T10:57:36.415646",
     "exception": false,
     "start_time": "2021-02-09T10:57:36.181198",
     "status": "completed"
    },
    "tags": []
   },
   "outputs": [
    {
     "data": {
      "image/png": "[encoded data removed]",
      "text/plain": [
       "<Figure size 432x288 with 1 Axes>"
      ]
     },
     "metadata": {
      "needs_background": "light"
     },
     "output_type": "display_data"
    }
   ],
   "source": [
    "plt.plot(K, Sum_of_squared_distances, 'bx-')\n",
    "plt.xlabel('k')\n",
    "plt.ylabel('Sum_of_squared_distances')\n",
    "plt.title('Elbow Method For Optimal k')\n",
    "plt.show()"
   ]
  },
  {
   "cell_type": "markdown",
   "metadata": {
    "papermill": {
     "duration": 0.040269,
     "end_time": "2021-02-09T10:57:36.496562",
     "exception": false,
     "start_time": "2021-02-09T10:57:36.456293",
     "status": "completed"
    },
    "tags": []
   },
   "source": [
    "The elbow method is a technique to find the optimum number of clusters to fit for the data.\n",
    "Here i will mention this amazing [blog post](http://https://www.geeksforgeeks.org/elbow-method-for-optimal-value-of-k-in-kmeans/) by GeeksforGeeks which clearly explains Elbow method in detail along with code."
   ]
  },
  {
   "cell_type": "code",
   "execution_count": 24,
   "metadata": {
    "execution": {
     "iopub.execute_input": "2021-02-09T10:57:36.595545Z",
     "iopub.status.busy": "2021-02-09T10:57:36.594821Z",
     "iopub.status.idle": "2021-02-09T10:57:36.663813Z",
     "shell.execute_reply": "2021-02-09T10:57:36.664743Z"
    },
    "id": "NQw7Ox_2GCe-",
    "outputId": "516f5eed-6b96-4909-d65a-5f396dec21cc",
    "papermill": {
     "duration": 0.127878,
     "end_time": "2021-02-09T10:57:36.664978",
     "exception": false,
     "start_time": "2021-02-09T10:57:36.537100",
     "status": "completed"
    },
    "tags": []
   },
   "outputs": [
    {
     "name": "stdout",
     "output_type": "stream",
     "text": [
      "Number of labels is 1. Valid values are 2 to n_samples - 1 (inclusive)\n"
     ]
    }
   ],
   "source": [
    "from sklearn.metrics import silhouette_score\n",
    "try:\n",
    "    for n_clusters in K:\n",
    "        clusterer = KMeans (n_clusters=n_clusters).fit(data)\n",
    "        preds = clusterer.predict(data)\n",
    "        centers = clusterer.cluster_centers_\n",
    "\n",
    "        score = silhouette_score (data, preds, metric='euclidean')\n",
    "        print (\"For n_clusters = {}, silhouette score is {})\".format(n_clusters, score))\n",
    "except Exception as e:\n",
    "    print(e)"
   ]
  },
  {
   "cell_type": "code",
   "execution_count": 25,
   "metadata": {
    "execution": {
     "iopub.execute_input": "2021-02-09T10:57:36.763712Z",
     "iopub.status.busy": "2021-02-09T10:57:36.762970Z",
     "iopub.status.idle": "2021-02-09T10:57:54.927642Z",
     "shell.execute_reply": "2021-02-09T10:57:54.928453Z"
    },
    "id": "SoVFeCioGCe_",
    "outputId": "2bf701f9-071c-4338-8840-49135c925e17",
    "papermill": {
     "duration": 18.222195,
     "end_time": "2021-02-09T10:57:54.928674",
     "exception": false,
     "start_time": "2021-02-09T10:57:36.706479",
     "status": "completed"
    },
    "tags": []
   },
   "outputs": [
    {
     "name": "stdout",
     "output_type": "stream",
     "text": [
      "For n_clusters = 2, silhouette score is 0.4291682412065322)\n",
      "For n_clusters = 3, silhouette score is 0.44034810630017973)\n",
      "For n_clusters = 4, silhouette score is 0.46162586820317336)\n",
      "For n_clusters = 5, silhouette score is 0.44744587542496395)\n",
      "For n_clusters = 6, silhouette score is 0.42359346001719855)\n",
      "For n_clusters = 7, silhouette score is 0.4287024305410248)\n",
      "For n_clusters = 8, silhouette score is 0.429611389012972)\n",
      "For n_clusters = 9, silhouette score is 0.423475442015739)\n",
      "For n_clusters = 10, silhouette score is 0.4134239627879622)\n",
      "For n_clusters = 11, silhouette score is 0.4136733207378566)\n",
      "For n_clusters = 12, silhouette score is 0.4226770781999232)\n",
      "For n_clusters = 13, silhouette score is 0.4125084872476257)\n",
      "For n_clusters = 14, silhouette score is 0.4043896937730701)\n"
     ]
    }
   ],
   "source": [
    "score_list=[]\n",
    "for n_clusters in range(2,15):\n",
    "        clusterer = KMeans (n_clusters=n_clusters).fit(data)\n",
    "        preds = clusterer.predict(data)\n",
    "        centers = clusterer.cluster_centers_\n",
    "\n",
    "        score = silhouette_score (data, preds, metric='euclidean')\n",
    "        score_list.append(score)\n",
    "        print (\"For n_clusters = {}, silhouette score is {})\".format(n_clusters, score))"
   ]
  },
  {
   "cell_type": "markdown",
   "metadata": {
    "id": "y4O4Yjm5IIVW",
    "papermill": {
     "duration": 0.037722,
     "end_time": "2021-02-09T10:57:55.009676",
     "exception": false,
     "start_time": "2021-02-09T10:57:54.971954",
     "status": "completed"
    },
    "tags": []
   },
   "source": [
    "This indicates 4 to be the best way to cluster.\n",
    "Since at k=4 it shows the maximum silhouette score."
   ]
  },
  {
   "cell_type": "code",
   "execution_count": 26,
   "metadata": {
    "execution": {
     "iopub.execute_input": "2021-02-09T10:57:55.108729Z",
     "iopub.status.busy": "2021-02-09T10:57:55.108058Z",
     "iopub.status.idle": "2021-02-09T10:57:55.247418Z",
     "shell.execute_reply": "2021-02-09T10:57:55.246696Z"
    },
    "id": "VpSySfWcGCe_",
    "outputId": "3b318698-bee2-4a49-db7b-f535933ddaef",
    "papermill": {
     "duration": 0.199194,
     "end_time": "2021-02-09T10:57:55.247571",
     "exception": false,
     "start_time": "2021-02-09T10:57:55.048377",
     "status": "completed"
    },
    "tags": []
   },
   "outputs": [
    {
     "data": {
      "image/png": "[encoded data removed]",
      "text/plain": [
       "<Figure size 432x288 with 1 Axes>"
      ]
     },
     "metadata": {
      "needs_background": "light"
     },
     "output_type": "display_data"
    }
   ],
   "source": [
    "plt.bar(range(2,15),score_list)\n",
    "plt.show()"
   ]
  },
  {
   "cell_type": "code",
   "execution_count": 27,
   "metadata": {
    "execution": {
     "iopub.execute_input": "2021-02-09T10:57:55.333503Z",
     "iopub.status.busy": "2021-02-09T10:57:55.332813Z",
     "iopub.status.idle": "2021-02-09T10:57:55.466542Z",
     "shell.execute_reply": "2021-02-09T10:57:55.467147Z"
    },
    "id": "PZ-3_iJ1GCe_",
    "outputId": "d9990e35-90d6-42b2-89cc-c3d02c4fa7e7",
    "papermill": {
     "duration": 0.180823,
     "end_time": "2021-02-09T10:57:55.467351",
     "exception": false,
     "start_time": "2021-02-09T10:57:55.286528",
     "status": "completed"
    },
    "tags": []
   },
   "outputs": [
    {
     "name": "stdout",
     "output_type": "stream",
     "text": [
      "[1 2 1 ... 1 0 3]\n"
     ]
    }
   ],
   "source": [
    "model=KMeans(n_clusters=4)\n",
    "model.fit(data)\n",
    "print(model.labels_)"
   ]
  },
  {
   "cell_type": "markdown",
   "metadata": {
    "papermill": {
     "duration": 0.048698,
     "end_time": "2021-02-09T10:57:55.563697",
     "exception": false,
     "start_time": "2021-02-09T10:57:55.514999",
     "status": "completed"
    },
    "tags": []
   },
   "source": [
    "These are th encoded labels corresponding to the  types of customers falling into the data. Using this information we can send out different business strategies or ads targeting them."
   ]
  }
 ],
 "metadata": {
  "kernelspec": {
   "display_name": "Python 3",
   "language": "python",
   "name": "python3"
  },
  "language_info": {
   "codemirror_mode": {
    "name": "ipython",
    "version": 3
   },
   "file_extension": ".py",
   "mimetype": "text/x-python",
   "name": "python",
   "nbconvert_exporter": "python",
   "pygments_lexer": "ipython3",
   "version": "3.7.9"
  },
  "papermill": {
   "default_parameters": {},
   "duration": 38.059117,
   "end_time": "2021-02-09T10:57:56.428819",
   "environment_variables": {},
   "exception": null,
   "input_path": "__notebook__.ipynb",
   "output_path": "__notebook__.ipynb",
   "parameters": {},
   "start_time": "2021-02-09T10:57:18.369702",
   "version": "2.2.2"
  }
 },
 "nbformat": 4,
 "nbformat_minor": 4
}
